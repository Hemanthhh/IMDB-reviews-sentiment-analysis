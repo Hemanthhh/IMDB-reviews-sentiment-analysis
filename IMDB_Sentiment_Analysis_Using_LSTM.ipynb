{
  "nbformat": 4,
  "nbformat_minor": 0,
  "metadata": {
    "colab": {
      "name": "IMDB Sentiment Analysis Using LSTM.ipynb",
      "provenance": [],
      "collapsed_sections": [],
      "authorship_tag": "ABX9TyNlm6dFnzJR7ybswBghaqLk",
      "include_colab_link": true
    },
    "kernelspec": {
      "name": "python3",
      "display_name": "Python 3"
    },
    "language_info": {
      "name": "python"
    }
  },
  "cells": [
    {
      "cell_type": "markdown",
      "metadata": {
        "id": "view-in-github",
        "colab_type": "text"
      },
      "source": [
        "<a href=\"https://colab.research.google.com/github/Hemanthhh/IMDB-reviews-sentiment-analysis/blob/main/IMDB_Sentiment_Analysis_Using_LSTM.ipynb\" target=\"_parent\"><img src=\"https://colab.research.google.com/assets/colab-badge.svg\" alt=\"Open In Colab\"/></a>"
      ]
    },
    {
      "cell_type": "code",
      "execution_count": null,
      "metadata": {
        "colab": {
          "base_uri": "https://localhost:8080/"
        },
        "id": "6n5eeLWe4A6a",
        "outputId": "a8aaa354-8755-4cf7-847f-b8dc3cc7a25d"
      },
      "outputs": [
        {
          "output_type": "stream",
          "name": "stdout",
          "text": [
            "[nltk_data] Downloading package stopwords to /root/nltk_data...\n",
            "[nltk_data]   Package stopwords is already up-to-date!\n"
          ]
        }
      ],
      "source": [
        "import pandas as pd\n",
        "import numpy as np\n",
        "import nltk\n",
        "nltk.download('stopwords')\n",
        "from nltk.corpus import stopwords\n",
        "from sklearn.model_selection import train_test_split\n",
        "import re\n",
        "from tensorflow.keras.preprocessing.text import Tokenizer\n",
        "from tensorflow.keras.preprocessing.sequence import pad_sequences\n",
        "from tensorflow.keras.models import Sequential\n",
        "from tensorflow.keras.layers import Embedding, LSTM, Dense\n",
        "from tensorflow.keras.callbacks import ModelCheckpoint\n",
        "from tensorflow.keras.models import load_model"
      ]
    },
    {
      "cell_type": "code",
      "source": [
        "dataframe = pd.read_csv('/content/IMDB Dataset.csv', encoding='utf-8')"
      ],
      "metadata": {
        "id": "vTJ5AFdZYZLa"
      },
      "execution_count": null,
      "outputs": []
    },
    {
      "cell_type": "code",
      "source": [
        "dataframe.head()"
      ],
      "metadata": {
        "colab": {
          "base_uri": "https://localhost:8080/",
          "height": 206
        },
        "id": "6RmYiVIQYivK",
        "outputId": "10e5ee51-c461-4f93-a7b4-9fa4147a326e"
      },
      "execution_count": null,
      "outputs": [
        {
          "output_type": "execute_result",
          "data": {
            "text/html": [
              "<div>\n",
              "<style scoped>\n",
              "    .dataframe tbody tr th:only-of-type {\n",
              "        vertical-align: middle;\n",
              "    }\n",
              "\n",
              "    .dataframe tbody tr th {\n",
              "        vertical-align: top;\n",
              "    }\n",
              "\n",
              "    .dataframe thead th {\n",
              "        text-align: right;\n",
              "    }\n",
              "</style>\n",
              "<table border=\"1\" class=\"dataframe\">\n",
              "  <thead>\n",
              "    <tr style=\"text-align: right;\">\n",
              "      <th></th>\n",
              "      <th>review</th>\n",
              "      <th>sentiment</th>\n",
              "    </tr>\n",
              "  </thead>\n",
              "  <tbody>\n",
              "    <tr>\n",
              "      <th>0</th>\n",
              "      <td>One of the other reviewers has mentioned that ...</td>\n",
              "      <td>positive</td>\n",
              "    </tr>\n",
              "    <tr>\n",
              "      <th>1</th>\n",
              "      <td>A wonderful little production. &lt;br /&gt;&lt;br /&gt;The...</td>\n",
              "      <td>positive</td>\n",
              "    </tr>\n",
              "    <tr>\n",
              "      <th>2</th>\n",
              "      <td>I thought this was a wonderful way to spend ti...</td>\n",
              "      <td>positive</td>\n",
              "    </tr>\n",
              "    <tr>\n",
              "      <th>3</th>\n",
              "      <td>Basically there's a family where a little boy ...</td>\n",
              "      <td>negative</td>\n",
              "    </tr>\n",
              "    <tr>\n",
              "      <th>4</th>\n",
              "      <td>Petter Mattei's \"Love in the Time of Money\" is...</td>\n",
              "      <td>positive</td>\n",
              "    </tr>\n",
              "  </tbody>\n",
              "</table>\n",
              "</div>"
            ],
            "text/plain": [
              "                                              review sentiment\n",
              "0  One of the other reviewers has mentioned that ...  positive\n",
              "1  A wonderful little production. <br /><br />The...  positive\n",
              "2  I thought this was a wonderful way to spend ti...  positive\n",
              "3  Basically there's a family where a little boy ...  negative\n",
              "4  Petter Mattei's \"Love in the Time of Money\" is...  positive"
            ]
          },
          "metadata": {},
          "execution_count": 3
        }
      ]
    },
    {
      "cell_type": "code",
      "source": [
        "english_stop_words = set(stopwords.words('english'))"
      ],
      "metadata": {
        "id": "KxvQfEtgZKjQ"
      },
      "execution_count": null,
      "outputs": []
    },
    {
      "cell_type": "code",
      "source": [
        "def load_dataset():\n",
        "    df = pd.read_csv('IMDB Dataset.csv')\n",
        "    x_data = df['review']    \n",
        "    y_data = df['sentiment']    \n",
        "\n",
        "    # PRE-PROCESS REVIEW\n",
        "    x_data = x_data.replace({'<.*?>': ''}, regex = True)          # remove html tag\n",
        "    x_data = x_data.replace({'[^A-Za-z]': ' '}, regex = True)     # remove non alphabet\n",
        "    x_data = x_data.apply(lambda review: [w for w in review.split() if w not in english_stop_words])  # remove stop words\n",
        "    x_data = x_data.apply(lambda review: [w.lower() for w in review])   # lower case\n",
        "    \n",
        "    # ENCODE SENTIMENT -> 0 & 1\n",
        "    y_data = y_data.replace('positive', 1)\n",
        "    y_data = y_data.replace('negative', 0)\n",
        "\n",
        "    return x_data, y_data\n",
        "\n",
        "x_data, y_data = load_dataset()"
      ],
      "metadata": {
        "id": "xe0Q7QD8UlRm"
      },
      "execution_count": null,
      "outputs": []
    },
    {
      "cell_type": "code",
      "source": [
        "x_train, x_test, y_train, y_test = train_test_split(x_data, y_data, test_size = 0.2)\n",
        "\n",
        "print('Train Set')\n",
        "print(x_train, '\\n')\n",
        "print(x_test, '\\n')\n",
        "print('Test Set')\n",
        "print(y_train, '\\n')\n",
        "print(y_test)"
      ],
      "metadata": {
        "colab": {
          "base_uri": "https://localhost:8080/"
        },
        "id": "P2ICG3s4bNqt",
        "outputId": "21e2fa3a-d505-4f47-f3b3-3620cb6b50b7"
      },
      "execution_count": null,
      "outputs": [
        {
          "output_type": "stream",
          "name": "stdout",
          "text": [
            "Train Set\n",
            "43828    [before, sunrise, romance, slacker, generation...\n",
            "37635    [popular, radio, storyteller, gabriel, no, one...\n",
            "5685     [this, crock, doodoo, award, they, must, despe...\n",
            "48231    [just, watched, film, rd, time, enjoyed, linds...\n",
            "539      [ok, i, italian, many, italian, film, like, i,...\n",
            "                               ...                        \n",
            "18888    [spoiler, plot, explanation, poor, family, thr...\n",
            "5188     [the, comeback, starts, looking, promising, br...\n",
            "28268    [spoilers, in, first, paragraph, this, movie, ...\n",
            "34156    [i, sure, review, contains, spoilers, i, playi...\n",
            "4471     [cobb, it, sucked, i, learned, nothing, man, i...\n",
            "Name: review, Length: 40000, dtype: object \n",
            "\n",
            "12501    [ugh, i, say, ugh, i, rented, film, labeled, s...\n",
            "40437    [this, is, not, a, love, song, brilliant, exam...\n",
            "29462    [let, start, saying, i, fan, horror, movies, i...\n",
            "15043    [deep, blood, its, one, movies, say, another, ...\n",
            "46029    [i, read, comments, film, judging, average, ra...\n",
            "                               ...                        \n",
            "22312    [for, film, got, little, publicity, people, he...\n",
            "2795     [stanwyck, villainous, best, robinson, equal, ...\n",
            "45961    [this, movie, likely, sentimental, many, viewe...\n",
            "28119    [one, day, red, alley, cat, fed, kicked, peopl...\n",
            "22876    [although, i, earthly, idea, expect, movie, su...\n",
            "Name: review, Length: 10000, dtype: object \n",
            "\n",
            "Test Set\n",
            "43828    1\n",
            "37635    1\n",
            "5685     0\n",
            "48231    1\n",
            "539      1\n",
            "        ..\n",
            "18888    0\n",
            "5188     0\n",
            "28268    1\n",
            "34156    0\n",
            "4471     0\n",
            "Name: sentiment, Length: 40000, dtype: int64 \n",
            "\n",
            "12501    0\n",
            "40437    1\n",
            "29462    0\n",
            "15043    1\n",
            "46029    1\n",
            "        ..\n",
            "22312    1\n",
            "2795     1\n",
            "45961    1\n",
            "28119    1\n",
            "22876    0\n",
            "Name: sentiment, Length: 10000, dtype: int64\n"
          ]
        }
      ]
    },
    {
      "cell_type": "code",
      "source": [
        "def get_max_length():\n",
        "    review_length = []\n",
        "    for review in x_train:\n",
        "        review_length.append(len(review))\n",
        "\n",
        "    return int(np.ceil(np.mean(review_length)))"
      ],
      "metadata": {
        "id": "dRvnwiB9bQxl"
      },
      "execution_count": null,
      "outputs": []
    },
    {
      "cell_type": "code",
      "source": [
        "token = Tokenizer(lower=False)    # no need lower, because already lowered the data in load_data()\n",
        "token.fit_on_texts(x_train)\n",
        "x_train = token.texts_to_sequences(x_train)\n",
        "x_test = token.texts_to_sequences(x_test)\n",
        "\n",
        "max_length = get_max_length()\n",
        "\n",
        "x_train = pad_sequences(x_train, maxlen=max_length, padding='post', truncating='post')\n",
        "x_test = pad_sequences(x_test, maxlen=max_length, padding='post', truncating='post')\n",
        "\n",
        "total_words = len(token.word_index) + 1   # add 1 because of 0 padding\n",
        "\n",
        "print('Encoded X Train\\n', x_train, '\\n')\n",
        "print('Encoded X Test\\n', x_test, '\\n')\n",
        "print('Maximum review length: ', max_length)"
      ],
      "metadata": {
        "colab": {
          "base_uri": "https://localhost:8080/"
        },
        "id": "pT8qwN-0bV6F",
        "outputId": "a3b4924d-a98c-4af3-a3f4-4e839b8580ce"
      },
      "execution_count": null,
      "outputs": [
        {
          "output_type": "stream",
          "name": "stdout",
          "text": [
            "Encoded X Train\n",
            " [[ 1632  8883   776 ...   671   132     8]\n",
            " [  987  1435 11686 ...   975   347 30149]\n",
            " [    8 23754 57103 ...     0     0     0]\n",
            " ...\n",
            " [  943    49    23 ...  6155 45284    55]\n",
            " [    1   158   612 ...   547   433     4]\n",
            " [ 6523     7  1922 ...   493    55  1066]] \n",
            "\n",
            "Encoded X Test\n",
            " [[ 5597     1    58 ...     0     0     0]\n",
            " [    8   511   153 ...     2     4 10423]\n",
            " [  181   280   528 ...     0     0     0]\n",
            " ...\n",
            " [    8     3  1156 ...     0     0     0]\n",
            " [    5   160   723 ...     0     0     0]\n",
            " [  166     1 16317 ...   736   354    47]] \n",
            "\n",
            "Maximum review length:  130\n"
          ]
        }
      ]
    },
    {
      "cell_type": "code",
      "source": [
        "EMBED_DIM = 32\n",
        "LSTM_OUT = 64\n",
        "\n",
        "model = Sequential()\n",
        "model.add(Embedding(total_words, EMBED_DIM, input_length = max_length))\n",
        "model.add(LSTM(LSTM_OUT))\n",
        "model.add(Dense(1, activation='sigmoid'))\n",
        "model.compile(optimizer = 'adam', loss = 'binary_crossentropy', metrics = ['accuracy'])\n",
        "\n",
        "print(model.summary())"
      ],
      "metadata": {
        "colab": {
          "base_uri": "https://localhost:8080/"
        },
        "id": "RjSpE4pDbYPM",
        "outputId": "3f11d829-9bd7-4b6b-9ce5-c01367b7ec73"
      },
      "execution_count": null,
      "outputs": [
        {
          "output_type": "stream",
          "name": "stdout",
          "text": [
            "Model: \"sequential\"\n",
            "_________________________________________________________________\n",
            " Layer (type)                Output Shape              Param #   \n",
            "=================================================================\n",
            " embedding (Embedding)       (None, 130, 32)           2952160   \n",
            "                                                                 \n",
            " lstm (LSTM)                 (None, 64)                24832     \n",
            "                                                                 \n",
            " dense (Dense)               (None, 1)                 65        \n",
            "                                                                 \n",
            "=================================================================\n",
            "Total params: 2,977,057\n",
            "Trainable params: 2,977,057\n",
            "Non-trainable params: 0\n",
            "_________________________________________________________________\n",
            "None\n"
          ]
        }
      ]
    },
    {
      "cell_type": "code",
      "source": [
        "checkpoint = ModelCheckpoint(\n",
        "    'models/LSTM.h5',\n",
        "    monitor='accuracy',\n",
        "    save_best_only=True,\n",
        "    verbose=1\n",
        ")"
      ],
      "metadata": {
        "id": "vvcf1J_hbbHA"
      },
      "execution_count": null,
      "outputs": []
    },
    {
      "cell_type": "code",
      "source": [
        "model.fit(x_train, y_train, batch_size = 128, epochs = 5, callbacks=[checkpoint])"
      ],
      "metadata": {
        "colab": {
          "base_uri": "https://localhost:8080/"
        },
        "id": "yuA3IquvbeCw",
        "outputId": "efd033d9-f209-4b5c-acd7-f8b67ff8e0d5"
      },
      "execution_count": null,
      "outputs": [
        {
          "output_type": "stream",
          "name": "stdout",
          "text": [
            "Epoch 1/5\n",
            "313/313 [==============================] - ETA: 0s - loss: 0.4832 - accuracy: 0.7293\n",
            "Epoch 00001: accuracy improved from -inf to 0.72927, saving model to models/LSTM.h5\n",
            "313/313 [==============================] - 65s 199ms/step - loss: 0.4832 - accuracy: 0.7293\n",
            "Epoch 2/5\n",
            "313/313 [==============================] - ETA: 0s - loss: 0.2205 - accuracy: 0.9211\n",
            "Epoch 00002: accuracy improved from 0.72927 to 0.92112, saving model to models/LSTM.h5\n",
            "313/313 [==============================] - 64s 204ms/step - loss: 0.2205 - accuracy: 0.9211\n",
            "Epoch 3/5\n",
            "313/313 [==============================] - ETA: 0s - loss: 0.1244 - accuracy: 0.9613\n",
            "Epoch 00003: accuracy improved from 0.92112 to 0.96127, saving model to models/LSTM.h5\n",
            "313/313 [==============================] - 64s 204ms/step - loss: 0.1244 - accuracy: 0.9613\n",
            "Epoch 4/5\n",
            "313/313 [==============================] - ETA: 0s - loss: 0.0782 - accuracy: 0.9771\n",
            "Epoch 00004: accuracy improved from 0.96127 to 0.97705, saving model to models/LSTM.h5\n",
            "313/313 [==============================] - 64s 204ms/step - loss: 0.0782 - accuracy: 0.9771\n",
            "Epoch 5/5\n",
            "313/313 [==============================] - ETA: 0s - loss: 0.0520 - accuracy: 0.9865\n",
            "Epoch 00005: accuracy improved from 0.97705 to 0.98652, saving model to models/LSTM.h5\n",
            "313/313 [==============================] - 63s 203ms/step - loss: 0.0520 - accuracy: 0.9865\n"
          ]
        },
        {
          "output_type": "execute_result",
          "data": {
            "text/plain": [
              "<keras.callbacks.History at 0x7fac51e91710>"
            ]
          },
          "metadata": {},
          "execution_count": 24
        }
      ]
    },
    {
      "cell_type": "code",
      "source": [
        "y_prediction = model.predict(x_test, batch_size = 128)\n",
        "y_prediction_classes = np.where(y_prediction > 0.7, 1, 0)\n",
        "\n",
        "true = 0\n",
        "for i, y in enumerate(y_test):\n",
        "    if y == y_prediction_classes[i]:\n",
        "        true += 1\n",
        "\n",
        "print('Correct Prediction: {}'.format(true))\n",
        "print('Wrong Prediction: {}'.format(len(y_pred) - true))\n",
        "print('Accuracy: {}'.format(true/len(y_pred)*100))"
      ],
      "metadata": {
        "colab": {
          "base_uri": "https://localhost:8080/"
        },
        "id": "6SkAughybg9i",
        "outputId": "bb90c98b-2430-4fe3-99d9-7cd8817d3ffd"
      },
      "execution_count": null,
      "outputs": [
        {
          "output_type": "stream",
          "name": "stdout",
          "text": [
            "Correct Prediction: 8687\n",
            "Wrong Prediction: 1313\n",
            "Accuracy: 86.87\n"
          ]
        }
      ]
    },
    {
      "cell_type": "code",
      "source": [
        "loaded_model = load_model('models/LSTM.h5')"
      ],
      "metadata": {
        "id": "93DA5ZzsEDqa"
      },
      "execution_count": null,
      "outputs": []
    },
    {
      "cell_type": "code",
      "source": [
        "review = str(input('Movie Review: '))"
      ],
      "metadata": {
        "colab": {
          "base_uri": "https://localhost:8080/"
        },
        "id": "j5lrhBivFypS",
        "outputId": "08bb5b81-3bcd-4887-ac03-46b930f625d9"
      },
      "execution_count": null,
      "outputs": [
        {
          "name": "stdout",
          "output_type": "stream",
          "text": [
            "Movie Review: Movie felt awful and story was not interesting\n"
          ]
        }
      ]
    },
    {
      "cell_type": "code",
      "source": [
        "regex = re.compile(r'[^a-zA-Z\\s]')\n",
        "review = regex.sub('', review)\n",
        "print(f'Cleaned String: {review}')\n",
        "\n",
        "words = review.split(' ')\n",
        "filtered = [w for w in words if w not in english_stop_words]\n",
        "filtered = ' '.join(filtered)\n",
        "filtered = [filtered.lower()]\n",
        "\n",
        "print(f'Filtered String: {filtered}')"
      ],
      "metadata": {
        "colab": {
          "base_uri": "https://localhost:8080/"
        },
        "id": "c7yVp8_jF22H",
        "outputId": "54010b15-c9b3-4d6f-c232-7283c72f1689"
      },
      "execution_count": null,
      "outputs": [
        {
          "output_type": "stream",
          "name": "stdout",
          "text": [
            "Cleaned String: Movie felt awful and story was not interesting\n",
            "Filtered String: ['movie felt awful story interesting']\n"
          ]
        }
      ]
    },
    {
      "cell_type": "code",
      "source": [
        "tokenize_words = token.texts_to_sequences(filtered)\n",
        "tokenize_words = pad_sequences(tokenize_words, maxlen= max_length, padding= 'post', truncating= 'post')\n",
        "print(tokenize_words)"
      ],
      "metadata": {
        "colab": {
          "base_uri": "https://localhost:8080/"
        },
        "id": "Ad4Vs8UrGsec",
        "outputId": "95838cc7-a47f-42bc-8c6d-44672bac4da2"
      },
      "execution_count": null,
      "outputs": [
        {
          "output_type": "stream",
          "name": "stdout",
          "text": [
            "[[  3 344 279  14 128   0   0   0   0   0   0   0   0   0   0   0   0   0\n",
            "    0   0   0   0   0   0   0   0   0   0   0   0   0   0   0   0   0   0\n",
            "    0   0   0   0   0   0   0   0   0   0   0   0   0   0   0   0   0   0\n",
            "    0   0   0   0   0   0   0   0   0   0   0   0   0   0   0   0   0   0\n",
            "    0   0   0   0   0   0   0   0   0   0   0   0   0   0   0   0   0   0\n",
            "    0   0   0   0   0   0   0   0   0   0   0   0   0   0   0   0   0   0\n",
            "    0   0   0   0   0   0   0   0   0   0   0   0   0   0   0   0   0   0\n",
            "    0   0   0   0]]\n"
          ]
        }
      ]
    },
    {
      "cell_type": "code",
      "source": [
        "result = loaded_model.predict(tokenize_words)\n",
        "print(result)"
      ],
      "metadata": {
        "colab": {
          "base_uri": "https://localhost:8080/"
        },
        "id": "Qr_gAywxHJJ9",
        "outputId": "02993c22-0ba1-4274-f102-b57629c3f88e"
      },
      "execution_count": null,
      "outputs": [
        {
          "output_type": "stream",
          "name": "stdout",
          "text": [
            "[[0.02301535]]\n"
          ]
        }
      ]
    },
    {
      "cell_type": "code",
      "source": [
        "if result >0.7:\n",
        "  print('positive')\n",
        "else:\n",
        "  print('negative')"
      ],
      "metadata": {
        "colab": {
          "base_uri": "https://localhost:8080/"
        },
        "id": "bUCHmDXQHPVU",
        "outputId": "773d01e0-cacb-4560-c704-8b2646b47dec"
      },
      "execution_count": null,
      "outputs": [
        {
          "output_type": "stream",
          "name": "stdout",
          "text": [
            "negative\n"
          ]
        }
      ]
    }
  ]
}